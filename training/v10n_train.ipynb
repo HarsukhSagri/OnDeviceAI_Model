{
  "cells": [
    {
      "cell_type": "code",
      "execution_count": null,
      "metadata": {
        "colab": {
          "base_uri": "https://localhost:8080/"
        },
        "id": "gbg2EzW8Ib3p",
        "outputId": "b25bfa5f-cd50-453e-937e-e8833370e4f8"
      },
      "outputs": [],
      "source": [
        "!pip install ultralytics opencv-python-headless matplotlib easyocr"
      ]
    },
    {
      "cell_type": "code",
      "execution_count": null,
      "metadata": {
        "id": "2AyNjHSTI5cO"
      },
      "outputs": [],
      "source": [
        "# Step 5: Define dataset YAML file\n",
        "data_yaml = \"\"\"\n",
        "train: /content/drive/MyDrive/dataset/output/yolo/train\n",
        "val: /content/drive/MyDrive/dataset/output/yolo/val\n",
        "\n",
        "nc: 9\n",
        "names: ['Name', 'DOB', 'Gender', 'AadhaarNumber', 'IDNumber', 'Address', 'RegistrationNumber', 'CountryName', 'IssueDate']\n",
        "\"\"\"\n",
        "\n",
        "with open(\"custom_data.yaml\", \"w\") as f:\n",
        "    f.write(data_yaml)"
      ]
    },
    {
      "cell_type": "code",
      "execution_count": null,
      "metadata": {
        "id": "0oDJlf5vJff4"
      },
      "outputs": [],
      "source": [
        "import json\n",
        "import os\n",
        "import shutil\n",
        "import requests\n",
        "import cv2\n",
        "import matplotlib.pyplot as plt\n",
        "from PIL import Image\n",
        "from ultralytics import YOLO"
      ]
    },
    {
      "cell_type": "code",
      "execution_count": null,
      "metadata": {
        "colab": {
          "base_uri": "https://localhost:8080/"
        },
        "id": "HzO6mf_XJV6o",
        "outputId": "aee4cb5e-2c46-4615-9a5b-4dfa59299667"
      },
      "outputs": [],
      "source": [
        "# Step 6: Train YOLOv10n model\n",
        "model = YOLO('yolov10n.pt')  # Ensure you have yolov8n.pt model file in the appropriate directory\n",
        "\n",
        "model.train(data='custom_data.yaml', epochs=15)"
      ]
    },
    {
      "cell_type": "code",
      "execution_count": null,
      "metadata": {
        "id": "ZizdAsRAUC3m"
      },
      "outputs": [],
      "source": []
    }
  ],
  "metadata": {
    "accelerator": "GPU",
    "colab": {
      "gpuType": "T4",
      "provenance": []
    },
    "kernelspec": {
      "display_name": "Python 3",
      "name": "python3"
    },
    "language_info": {
      "name": "python"
    }
  },
  "nbformat": 4,
  "nbformat_minor": 0
}
