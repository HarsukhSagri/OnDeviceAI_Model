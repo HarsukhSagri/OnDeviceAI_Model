{
  "cells": [
    {
      "cell_type": "code",
      "execution_count": null,
      "metadata": {
        "colab": {
          "base_uri": "https://localhost:8080/"
        },
        "id": "Hg-Gtw_x7-MC",
        "outputId": "ee7747e6-8d46-47b5-c202-4afcb19328c5"
      },
      "outputs": [],
      "source": [
        "!pip install ultralytics opencv-python-headless matplotlib easyocr"
      ]
    },
    {
      "cell_type": "code",
      "execution_count": null,
      "metadata": {
        "id": "WgGuX_QH8QST"
      },
      "outputs": [],
      "source": [
        "# Step 5: Define dataset YAML file\n",
        "data_yaml = \"\"\"\n",
        "train: /content/drive/MyDrive/dataset_us/output/yolo/train\n",
        "val: /content/drive/MyDrive/dataset_us/output/yolo/val\n",
        "\n",
        "nc: 10\n",
        "names: ['First_Name', 'Last_Name', 'DLNumber', 'Address', 'DOB', 'ExpiryDate', 'IssueDate', 'Sex', 'Class', 'Name']\n",
        "\"\"\"\n",
        "\n",
        "with open(\"custom_data_us.yaml\", \"w\") as f:\n",
        "    f.write(data_yaml)"
      ]
    },
    {
      "cell_type": "code",
      "execution_count": null,
      "metadata": {
        "id": "0eA_c7uo81TR"
      },
      "outputs": [],
      "source": [
        "import json\n",
        "import os\n",
        "import shutil\n",
        "import requests\n",
        "import cv2\n",
        "import matplotlib.pyplot as plt\n",
        "from PIL import Image\n",
        "from ultralytics import YOLO"
      ]
    },
    {
      "cell_type": "code",
      "execution_count": null,
      "metadata": {
        "colab": {
          "base_uri": "https://localhost:8080/"
        },
        "id": "8Wmhz1I19GwY",
        "outputId": "1983fe28-3eeb-469d-ffd8-2e8e275326f1"
      },
      "outputs": [],
      "source": [
        "# Step 6: Train YOLOv10n model\n",
        "model = YOLO('yolov9t.pt')  # Ensure you have yolov8n.pt model file in the appropriate directory\n",
        "\n",
        "model.train(data='custom_data_us.yaml', epochs=20)"
      ]
    }
  ],
  "metadata": {
    "accelerator": "GPU",
    "colab": {
      "gpuType": "T4",
      "provenance": []
    },
    "kernelspec": {
      "display_name": "Python 3",
      "name": "python3"
    },
    "language_info": {
      "name": "python"
    }
  },
  "nbformat": 4,
  "nbformat_minor": 0
}
