{
  "nbformat": 4,
  "nbformat_minor": 0,
  "metadata": {
    "colab": {
      "provenance": []
    },
    "kernelspec": {
      "name": "python3",
      "display_name": "Python 3"
    },
    "language_info": {
      "name": "python"
    }
  },
  "cells": [
    {
      "cell_type": "code",
      "execution_count": 1,
      "metadata": {
        "id": "3bj8A-9aC7Lx"
      },
      "outputs": [],
      "source": [
        "import json\n",
        "import os\n",
        "import shutil\n",
        "import requests\n",
        "import cv2\n",
        "import matplotlib.pyplot as plt\n",
        "from PIL import Image"
      ]
    },
    {
      "cell_type": "code",
      "source": [
        "# Step 2: Define paths for images and annotations\n",
        "json_dirs = {\n",
        "    'train': '/content/drive/MyDrive/dataset/annotations/train',\n",
        "    'val': '/content/drive/MyDrive/dataset/annotations/val'\n",
        "}\n",
        "image_dirs = {\n",
        "    'train': '/content/drive/MyDrive/dataset/images/train',\n",
        "    'val': '/content/drive/MyDrive/dataset/images/val'\n",
        "}\n",
        "output_dirs = {\n",
        "    'train': '/content/drive/MyDrive/dataset/output/yolo/train',\n",
        "    'val': '/content/drive/MyDrive/dataset/output/yolo/val'\n",
        "}\n",
        "\n",
        "# Create output directories if they don't exist\n",
        "os.makedirs(output_dirs['train'], exist_ok=True)\n",
        "os.makedirs(output_dirs['val'], exist_ok=True)\n"
      ],
      "metadata": {
        "id": "I88pXR-_DLeR"
      },
      "execution_count": 2,
      "outputs": []
    },
    {
      "cell_type": "code",
      "source": [
        "# Define the classes\n",
        "classes = ['Name', 'DOB', 'Gender', 'AadhaarNumber', 'IDNumber', 'Address', 'RegistrationNumber', 'CountryName', 'IssueDate']\n",
        "\n",
        "# Step 3: Function to convert JSON annotations to YOLO format\n",
        "def convert_to_yolo_format(json_path, image_path, output_dir, classes):\n",
        "    with open(json_path, 'r') as f:\n",
        "        data = json.load(f)\n",
        "\n",
        "    image_width = data['image_size']['width']\n",
        "    image_height = data['image_size']['height']\n",
        "\n",
        "    yolo_annotations = []\n",
        "    for item in data['annotations']:\n",
        "        if item['label'] in classes:\n",
        "            class_id = classes.index(item['label'])\n",
        "            xmin = item['coordinates']['xmin']\n",
        "            ymin = item['coordinates']['ymin']\n",
        "            xmax = item['coordinates']['xmax']\n",
        "            ymax = item['coordinates']['ymax']\n",
        "\n",
        "            # Convert to YOLO format\n",
        "            x_center = (xmin + xmax) / 2 / image_width\n",
        "            y_center = (ymin + ymax) / 2 / image_height\n",
        "            width = (xmax - xmin) / image_width\n",
        "            height = (ymax - ymin) / image_height\n",
        "\n",
        "            yolo_annotations.append(f\"{class_id} {x_center} {y_center} {width} {height}\")\n",
        "\n",
        "    # Save to output directory\n",
        "    base_name = os.path.splitext(os.path.basename(json_path))[0]\n",
        "    yolo_file_path = os.path.join(output_dir, base_name + '.txt')\n",
        "    with open(yolo_file_path, 'w') as f:\n",
        "        f.write('\\n'.join(yolo_annotations))\n",
        "\n",
        "    # Copy image to output directory\n",
        "    image_output_path = os.path.join(output_dir, os.path.basename(image_path))\n",
        "    if not os.path.exists(image_output_path):\n",
        "        shutil.copy(image_path, output_dir)"
      ],
      "metadata": {
        "id": "tWPnzPOVDZSC"
      },
      "execution_count": 3,
      "outputs": []
    },
    {
      "cell_type": "code",
      "source": [
        "# Step 4: Convert annotations for training and validation sets\n",
        "for phase in ['train', 'val']:\n",
        "    json_dir = json_dirs[phase]\n",
        "    image_dir = image_dirs[phase]\n",
        "    output_dir = output_dirs[phase]\n",
        "\n",
        "    for json_file in os.listdir(json_dir):\n",
        "        if json_file.endswith('.json'):\n",
        "            json_file_path = os.path.join(json_dir, json_file)\n",
        "            image_file = json_file.replace('.json', '.jpg')  # Adjust the extension if necessary\n",
        "            image_file_path = os.path.join(image_dir, image_file)\n",
        "            if os.path.exists(image_file_path):\n",
        "                convert_to_yolo_format(json_file_path, image_file_path, output_dir, classes)\n",
        "            else:\n",
        "                print(f\"Image file not found: {image_file_path}\")"
      ],
      "metadata": {
        "id": "Ds4KJGVODb11"
      },
      "execution_count": 4,
      "outputs": []
    }
  ]
}